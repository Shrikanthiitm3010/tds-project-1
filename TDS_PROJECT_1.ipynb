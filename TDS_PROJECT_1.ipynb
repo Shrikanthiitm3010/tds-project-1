{
  "nbformat": 4,
  "nbformat_minor": 0,
  "metadata": {
    "colab": {
      "provenance": []
    },
    "kernelspec": {
      "name": "python3",
      "display_name": "Python 3"
    },
    "language_info": {
      "name": "python"
    }
  },
  "cells": [
    {
      "cell_type": "code",
      "execution_count": 1,
      "metadata": {
        "id": "gb-3-FxuTY8k"
      },
      "outputs": [],
      "source": [
        "import pandas as pd\n",
        "import numpy as np\n",
        "import matplotlib.pyplot as plt\n",
        "import seaborn as sns\n"
      ]
    },
    {
      "cell_type": "code",
      "source": [
        "user_df = pd.read_csv('/content/users.csv')\n",
        "user_df.head()"
      ],
      "metadata": {
        "colab": {
          "base_uri": "https://localhost:8080/",
          "height": 434
        },
        "id": "YJbHXUH8TkTJ",
        "outputId": "245301da-2072-4bfa-f569-b2f97f12ffd5"
      },
      "execution_count": 27,
      "outputs": [
        {
          "output_type": "execute_result",
          "data": {
            "text/plain": [
              "                  login                    name  \\\n",
              "0                  orta             Orta Therox   \n",
              "1         jeromeetienne          Jerome Etienne   \n",
              "2            jonataslaw            Jonny Borges   \n",
              "3  steventroughtonsmith  Steven Troughton-Smith   \n",
              "4                  axic        Alex Beregszaszi   \n",
              "\n",
              "                                   company  \\\n",
              "0                                      NaN   \n",
              "1                   MAKING WEBAR A REALITY   \n",
              "2                                     IRIS   \n",
              "3                    HIGH CAFFEINE CONTENT   \n",
              "4  ETHEREUM @IPSILON @SPEARBIT @ETHEREUMJS   \n",
              "\n",
              "                                       location                     email  \\\n",
              "0  Huddersfield / NYC / Dublin / Rio de Janeiro               git@orta.io   \n",
              "1                               Dublin, Ireland  jerome.etienne@gmail.com   \n",
              "2                               Dublin, Ireland                       NaN   \n",
              "3                               Dublin, Ireland                       NaN   \n",
              "4                               Dublin, Ireland                       NaN   \n",
              "\n",
              "  hireable                                                bio  public_repos  \\\n",
              "0      NaN  Tech on @puzzmo-com \\r\\n\\r\\nEx-TypeScript. Con...           952   \n",
              "1     True  Making WebAR a reality - Around Javascript and...           301   \n",
              "2     True  VP of Engineering from Iris Finance.\\r\\nDevelo...           272   \n",
              "3      NaN                                                NaN            98   \n",
              "4     True  Works on decentralised stuff.\\r\\n\\r\\neipnft:ax...           143   \n",
              "\n",
              "   followers  following            created_at  \n",
              "0       6016        109  2009-01-24T20:40:31Z  \n",
              "1       2779         15  2010-04-26T11:58:29Z  \n",
              "2       2686         17  2018-01-23T19:17:15Z  \n",
              "3       1982          4  2009-01-08T23:51:31Z  \n",
              "4       1802          5  2008-08-11T23:38:10Z  "
            ],
            "text/html": [
              "\n",
              "  <div id=\"df-85a07e5a-455c-4fea-84c7-5ef9911a6b44\" class=\"colab-df-container\">\n",
              "    <div>\n",
              "<style scoped>\n",
              "    .dataframe tbody tr th:only-of-type {\n",
              "        vertical-align: middle;\n",
              "    }\n",
              "\n",
              "    .dataframe tbody tr th {\n",
              "        vertical-align: top;\n",
              "    }\n",
              "\n",
              "    .dataframe thead th {\n",
              "        text-align: right;\n",
              "    }\n",
              "</style>\n",
              "<table border=\"1\" class=\"dataframe\">\n",
              "  <thead>\n",
              "    <tr style=\"text-align: right;\">\n",
              "      <th></th>\n",
              "      <th>login</th>\n",
              "      <th>name</th>\n",
              "      <th>company</th>\n",
              "      <th>location</th>\n",
              "      <th>email</th>\n",
              "      <th>hireable</th>\n",
              "      <th>bio</th>\n",
              "      <th>public_repos</th>\n",
              "      <th>followers</th>\n",
              "      <th>following</th>\n",
              "      <th>created_at</th>\n",
              "    </tr>\n",
              "  </thead>\n",
              "  <tbody>\n",
              "    <tr>\n",
              "      <th>0</th>\n",
              "      <td>orta</td>\n",
              "      <td>Orta Therox</td>\n",
              "      <td>NaN</td>\n",
              "      <td>Huddersfield / NYC / Dublin / Rio de Janeiro</td>\n",
              "      <td>git@orta.io</td>\n",
              "      <td>NaN</td>\n",
              "      <td>Tech on @puzzmo-com \\r\\n\\r\\nEx-TypeScript. Con...</td>\n",
              "      <td>952</td>\n",
              "      <td>6016</td>\n",
              "      <td>109</td>\n",
              "      <td>2009-01-24T20:40:31Z</td>\n",
              "    </tr>\n",
              "    <tr>\n",
              "      <th>1</th>\n",
              "      <td>jeromeetienne</td>\n",
              "      <td>Jerome Etienne</td>\n",
              "      <td>MAKING WEBAR A REALITY</td>\n",
              "      <td>Dublin, Ireland</td>\n",
              "      <td>jerome.etienne@gmail.com</td>\n",
              "      <td>True</td>\n",
              "      <td>Making WebAR a reality - Around Javascript and...</td>\n",
              "      <td>301</td>\n",
              "      <td>2779</td>\n",
              "      <td>15</td>\n",
              "      <td>2010-04-26T11:58:29Z</td>\n",
              "    </tr>\n",
              "    <tr>\n",
              "      <th>2</th>\n",
              "      <td>jonataslaw</td>\n",
              "      <td>Jonny Borges</td>\n",
              "      <td>IRIS</td>\n",
              "      <td>Dublin, Ireland</td>\n",
              "      <td>NaN</td>\n",
              "      <td>True</td>\n",
              "      <td>VP of Engineering from Iris Finance.\\r\\nDevelo...</td>\n",
              "      <td>272</td>\n",
              "      <td>2686</td>\n",
              "      <td>17</td>\n",
              "      <td>2018-01-23T19:17:15Z</td>\n",
              "    </tr>\n",
              "    <tr>\n",
              "      <th>3</th>\n",
              "      <td>steventroughtonsmith</td>\n",
              "      <td>Steven Troughton-Smith</td>\n",
              "      <td>HIGH CAFFEINE CONTENT</td>\n",
              "      <td>Dublin, Ireland</td>\n",
              "      <td>NaN</td>\n",
              "      <td>NaN</td>\n",
              "      <td>NaN</td>\n",
              "      <td>98</td>\n",
              "      <td>1982</td>\n",
              "      <td>4</td>\n",
              "      <td>2009-01-08T23:51:31Z</td>\n",
              "    </tr>\n",
              "    <tr>\n",
              "      <th>4</th>\n",
              "      <td>axic</td>\n",
              "      <td>Alex Beregszaszi</td>\n",
              "      <td>ETHEREUM @IPSILON @SPEARBIT @ETHEREUMJS</td>\n",
              "      <td>Dublin, Ireland</td>\n",
              "      <td>NaN</td>\n",
              "      <td>True</td>\n",
              "      <td>Works on decentralised stuff.\\r\\n\\r\\neipnft:ax...</td>\n",
              "      <td>143</td>\n",
              "      <td>1802</td>\n",
              "      <td>5</td>\n",
              "      <td>2008-08-11T23:38:10Z</td>\n",
              "    </tr>\n",
              "  </tbody>\n",
              "</table>\n",
              "</div>\n",
              "    <div class=\"colab-df-buttons\">\n",
              "\n",
              "  <div class=\"colab-df-container\">\n",
              "    <button class=\"colab-df-convert\" onclick=\"convertToInteractive('df-85a07e5a-455c-4fea-84c7-5ef9911a6b44')\"\n",
              "            title=\"Convert this dataframe to an interactive table.\"\n",
              "            style=\"display:none;\">\n",
              "\n",
              "  <svg xmlns=\"http://www.w3.org/2000/svg\" height=\"24px\" viewBox=\"0 -960 960 960\">\n",
              "    <path d=\"M120-120v-720h720v720H120Zm60-500h600v-160H180v160Zm220 220h160v-160H400v160Zm0 220h160v-160H400v160ZM180-400h160v-160H180v160Zm440 0h160v-160H620v160ZM180-180h160v-160H180v160Zm440 0h160v-160H620v160Z\"/>\n",
              "  </svg>\n",
              "    </button>\n",
              "\n",
              "  <style>\n",
              "    .colab-df-container {\n",
              "      display:flex;\n",
              "      gap: 12px;\n",
              "    }\n",
              "\n",
              "    .colab-df-convert {\n",
              "      background-color: #E8F0FE;\n",
              "      border: none;\n",
              "      border-radius: 50%;\n",
              "      cursor: pointer;\n",
              "      display: none;\n",
              "      fill: #1967D2;\n",
              "      height: 32px;\n",
              "      padding: 0 0 0 0;\n",
              "      width: 32px;\n",
              "    }\n",
              "\n",
              "    .colab-df-convert:hover {\n",
              "      background-color: #E2EBFA;\n",
              "      box-shadow: 0px 1px 2px rgba(60, 64, 67, 0.3), 0px 1px 3px 1px rgba(60, 64, 67, 0.15);\n",
              "      fill: #174EA6;\n",
              "    }\n",
              "\n",
              "    .colab-df-buttons div {\n",
              "      margin-bottom: 4px;\n",
              "    }\n",
              "\n",
              "    [theme=dark] .colab-df-convert {\n",
              "      background-color: #3B4455;\n",
              "      fill: #D2E3FC;\n",
              "    }\n",
              "\n",
              "    [theme=dark] .colab-df-convert:hover {\n",
              "      background-color: #434B5C;\n",
              "      box-shadow: 0px 1px 3px 1px rgba(0, 0, 0, 0.15);\n",
              "      filter: drop-shadow(0px 1px 2px rgba(0, 0, 0, 0.3));\n",
              "      fill: #FFFFFF;\n",
              "    }\n",
              "  </style>\n",
              "\n",
              "    <script>\n",
              "      const buttonEl =\n",
              "        document.querySelector('#df-85a07e5a-455c-4fea-84c7-5ef9911a6b44 button.colab-df-convert');\n",
              "      buttonEl.style.display =\n",
              "        google.colab.kernel.accessAllowed ? 'block' : 'none';\n",
              "\n",
              "      async function convertToInteractive(key) {\n",
              "        const element = document.querySelector('#df-85a07e5a-455c-4fea-84c7-5ef9911a6b44');\n",
              "        const dataTable =\n",
              "          await google.colab.kernel.invokeFunction('convertToInteractive',\n",
              "                                                    [key], {});\n",
              "        if (!dataTable) return;\n",
              "\n",
              "        const docLinkHtml = 'Like what you see? Visit the ' +\n",
              "          '<a target=\"_blank\" href=https://colab.research.google.com/notebooks/data_table.ipynb>data table notebook</a>'\n",
              "          + ' to learn more about interactive tables.';\n",
              "        element.innerHTML = '';\n",
              "        dataTable['output_type'] = 'display_data';\n",
              "        await google.colab.output.renderOutput(dataTable, element);\n",
              "        const docLink = document.createElement('div');\n",
              "        docLink.innerHTML = docLinkHtml;\n",
              "        element.appendChild(docLink);\n",
              "      }\n",
              "    </script>\n",
              "  </div>\n",
              "\n",
              "\n",
              "<div id=\"df-4fbfd7d1-17c4-417e-b7c8-026055a8196e\">\n",
              "  <button class=\"colab-df-quickchart\" onclick=\"quickchart('df-4fbfd7d1-17c4-417e-b7c8-026055a8196e')\"\n",
              "            title=\"Suggest charts\"\n",
              "            style=\"display:none;\">\n",
              "\n",
              "<svg xmlns=\"http://www.w3.org/2000/svg\" height=\"24px\"viewBox=\"0 0 24 24\"\n",
              "     width=\"24px\">\n",
              "    <g>\n",
              "        <path d=\"M19 3H5c-1.1 0-2 .9-2 2v14c0 1.1.9 2 2 2h14c1.1 0 2-.9 2-2V5c0-1.1-.9-2-2-2zM9 17H7v-7h2v7zm4 0h-2V7h2v10zm4 0h-2v-4h2v4z\"/>\n",
              "    </g>\n",
              "</svg>\n",
              "  </button>\n",
              "\n",
              "<style>\n",
              "  .colab-df-quickchart {\n",
              "      --bg-color: #E8F0FE;\n",
              "      --fill-color: #1967D2;\n",
              "      --hover-bg-color: #E2EBFA;\n",
              "      --hover-fill-color: #174EA6;\n",
              "      --disabled-fill-color: #AAA;\n",
              "      --disabled-bg-color: #DDD;\n",
              "  }\n",
              "\n",
              "  [theme=dark] .colab-df-quickchart {\n",
              "      --bg-color: #3B4455;\n",
              "      --fill-color: #D2E3FC;\n",
              "      --hover-bg-color: #434B5C;\n",
              "      --hover-fill-color: #FFFFFF;\n",
              "      --disabled-bg-color: #3B4455;\n",
              "      --disabled-fill-color: #666;\n",
              "  }\n",
              "\n",
              "  .colab-df-quickchart {\n",
              "    background-color: var(--bg-color);\n",
              "    border: none;\n",
              "    border-radius: 50%;\n",
              "    cursor: pointer;\n",
              "    display: none;\n",
              "    fill: var(--fill-color);\n",
              "    height: 32px;\n",
              "    padding: 0;\n",
              "    width: 32px;\n",
              "  }\n",
              "\n",
              "  .colab-df-quickchart:hover {\n",
              "    background-color: var(--hover-bg-color);\n",
              "    box-shadow: 0 1px 2px rgba(60, 64, 67, 0.3), 0 1px 3px 1px rgba(60, 64, 67, 0.15);\n",
              "    fill: var(--button-hover-fill-color);\n",
              "  }\n",
              "\n",
              "  .colab-df-quickchart-complete:disabled,\n",
              "  .colab-df-quickchart-complete:disabled:hover {\n",
              "    background-color: var(--disabled-bg-color);\n",
              "    fill: var(--disabled-fill-color);\n",
              "    box-shadow: none;\n",
              "  }\n",
              "\n",
              "  .colab-df-spinner {\n",
              "    border: 2px solid var(--fill-color);\n",
              "    border-color: transparent;\n",
              "    border-bottom-color: var(--fill-color);\n",
              "    animation:\n",
              "      spin 1s steps(1) infinite;\n",
              "  }\n",
              "\n",
              "  @keyframes spin {\n",
              "    0% {\n",
              "      border-color: transparent;\n",
              "      border-bottom-color: var(--fill-color);\n",
              "      border-left-color: var(--fill-color);\n",
              "    }\n",
              "    20% {\n",
              "      border-color: transparent;\n",
              "      border-left-color: var(--fill-color);\n",
              "      border-top-color: var(--fill-color);\n",
              "    }\n",
              "    30% {\n",
              "      border-color: transparent;\n",
              "      border-left-color: var(--fill-color);\n",
              "      border-top-color: var(--fill-color);\n",
              "      border-right-color: var(--fill-color);\n",
              "    }\n",
              "    40% {\n",
              "      border-color: transparent;\n",
              "      border-right-color: var(--fill-color);\n",
              "      border-top-color: var(--fill-color);\n",
              "    }\n",
              "    60% {\n",
              "      border-color: transparent;\n",
              "      border-right-color: var(--fill-color);\n",
              "    }\n",
              "    80% {\n",
              "      border-color: transparent;\n",
              "      border-right-color: var(--fill-color);\n",
              "      border-bottom-color: var(--fill-color);\n",
              "    }\n",
              "    90% {\n",
              "      border-color: transparent;\n",
              "      border-bottom-color: var(--fill-color);\n",
              "    }\n",
              "  }\n",
              "</style>\n",
              "\n",
              "  <script>\n",
              "    async function quickchart(key) {\n",
              "      const quickchartButtonEl =\n",
              "        document.querySelector('#' + key + ' button');\n",
              "      quickchartButtonEl.disabled = true;  // To prevent multiple clicks.\n",
              "      quickchartButtonEl.classList.add('colab-df-spinner');\n",
              "      try {\n",
              "        const charts = await google.colab.kernel.invokeFunction(\n",
              "            'suggestCharts', [key], {});\n",
              "      } catch (error) {\n",
              "        console.error('Error during call to suggestCharts:', error);\n",
              "      }\n",
              "      quickchartButtonEl.classList.remove('colab-df-spinner');\n",
              "      quickchartButtonEl.classList.add('colab-df-quickchart-complete');\n",
              "    }\n",
              "    (() => {\n",
              "      let quickchartButtonEl =\n",
              "        document.querySelector('#df-4fbfd7d1-17c4-417e-b7c8-026055a8196e button');\n",
              "      quickchartButtonEl.style.display =\n",
              "        google.colab.kernel.accessAllowed ? 'block' : 'none';\n",
              "    })();\n",
              "  </script>\n",
              "</div>\n",
              "\n",
              "    </div>\n",
              "  </div>\n"
            ],
            "application/vnd.google.colaboratory.intrinsic+json": {
              "type": "dataframe",
              "variable_name": "user_df",
              "summary": "{\n  \"name\": \"user_df\",\n  \"rows\": 478,\n  \"fields\": [\n    {\n      \"column\": \"login\",\n      \"properties\": {\n        \"dtype\": \"string\",\n        \"num_unique_values\": 478,\n        \"samples\": [\n          \"markoshorro\",\n          \"ppamorim\",\n          \"ankitrohatgi\"\n        ],\n        \"semantic_type\": \"\",\n        \"description\": \"\"\n      }\n    },\n    {\n      \"column\": \"name\",\n      \"properties\": {\n        \"dtype\": \"string\",\n        \"num_unique_values\": 470,\n        \"samples\": [\n          \"Anton Gerdelan\",\n          \"Mehmet Kose\",\n          \"Pedro Paulo Amorim\"\n        ],\n        \"semantic_type\": \"\",\n        \"description\": \"\"\n      }\n    },\n    {\n      \"column\": \"company\",\n      \"properties\": {\n        \"dtype\": \"category\",\n        \"num_unique_values\": 215,\n        \"samples\": [\n          \"\\u81ea\\u5b85\\u8b66\\u5907\",\n          \"AMAZON WEB SERVICES\",\n          \"ALEKSANDAR TOPUZOVIC\"\n        ],\n        \"semantic_type\": \"\",\n        \"description\": \"\"\n      }\n    },\n    {\n      \"column\": \"location\",\n      \"properties\": {\n        \"dtype\": \"category\",\n        \"num_unique_values\": 53,\n        \"samples\": [\n          \"Dublin/Ireland\",\n          \"Dublin. Ireland.\",\n          \"Dublin \"\n        ],\n        \"semantic_type\": \"\",\n        \"description\": \"\"\n      }\n    },\n    {\n      \"column\": \"email\",\n      \"properties\": {\n        \"dtype\": \"category\",\n        \"num_unique_values\": 235,\n        \"samples\": [\n          \"samueloph@debian.org\",\n          \"kguest@php.net\",\n          \"cjayjayb@gmail.com\"\n        ],\n        \"semantic_type\": \"\",\n        \"description\": \"\"\n      }\n    },\n    {\n      \"column\": \"hireable\",\n      \"properties\": {\n        \"dtype\": \"category\",\n        \"num_unique_values\": 1,\n        \"samples\": [\n          true\n        ],\n        \"semantic_type\": \"\",\n        \"description\": \"\"\n      }\n    },\n    {\n      \"column\": \"bio\",\n      \"properties\": {\n        \"dtype\": \"string\",\n        \"num_unique_values\": 321,\n        \"samples\": [\n          \"Developer Experience @circleci \"\n        ],\n        \"semantic_type\": \"\",\n        \"description\": \"\"\n      }\n    },\n    {\n      \"column\": \"public_repos\",\n      \"properties\": {\n        \"dtype\": \"number\",\n        \"std\": 73,\n        \"min\": 0,\n        \"max\": 952,\n        \"num_unique_values\": 146,\n        \"samples\": [\n          41\n        ],\n        \"semantic_type\": \"\",\n        \"description\": \"\"\n      }\n    },\n    {\n      \"column\": \"followers\",\n      \"properties\": {\n        \"dtype\": \"number\",\n        \"std\": 373,\n        \"min\": 51,\n        \"max\": 6016,\n        \"num_unique_values\": 193,\n        \"samples\": [\n          318\n        ],\n        \"semantic_type\": \"\",\n        \"description\": \"\"\n      }\n    },\n    {\n      \"column\": \"following\",\n      \"properties\": {\n        \"dtype\": \"number\",\n        \"std\": 156,\n        \"min\": 0,\n        \"max\": 1553,\n        \"num_unique_values\": 176,\n        \"samples\": [\n          45\n        ],\n        \"semantic_type\": \"\",\n        \"description\": \"\"\n      }\n    },\n    {\n      \"column\": \"created_at\",\n      \"properties\": {\n        \"dtype\": \"object\",\n        \"num_unique_values\": 478,\n        \"samples\": [\n          \"2013-08-05T00:04:08Z\"\n        ],\n        \"semantic_type\": \"\",\n        \"description\": \"\"\n      }\n    }\n  ]\n}"
            }
          },
          "metadata": {},
          "execution_count": 27
        }
      ]
    },
    {
      "cell_type": "code",
      "source": [
        "user_df.columns"
      ],
      "metadata": {
        "colab": {
          "base_uri": "https://localhost:8080/"
        },
        "id": "ccpLTcKfTrcy",
        "outputId": "98665974-6686-4838-c4d5-7755f52ec029"
      },
      "execution_count": 3,
      "outputs": [
        {
          "output_type": "execute_result",
          "data": {
            "text/plain": [
              "Index(['login', 'name', 'company', 'location', 'email', 'hireable', 'bio',\n",
              "       'public_repos', 'followers', 'following', 'created_at'],\n",
              "      dtype='object')"
            ]
          },
          "metadata": {},
          "execution_count": 3
        }
      ]
    },
    {
      "cell_type": "code",
      "source": [
        "user_df.sort_values(by='followers', ascending=False).head(5)['login']"
      ],
      "metadata": {
        "colab": {
          "base_uri": "https://localhost:8080/",
          "height": 241
        },
        "id": "l624RYLiTvWc",
        "outputId": "b5281986-0bc7-48fe-f077-8ad2a1e5e204"
      },
      "execution_count": 5,
      "outputs": [
        {
          "output_type": "execute_result",
          "data": {
            "text/plain": [
              "0                    orta\n",
              "1           jeromeetienne\n",
              "2              jonataslaw\n",
              "3    steventroughtonsmith\n",
              "4                    axic\n",
              "Name: login, dtype: object"
            ],
            "text/html": [
              "<div>\n",
              "<style scoped>\n",
              "    .dataframe tbody tr th:only-of-type {\n",
              "        vertical-align: middle;\n",
              "    }\n",
              "\n",
              "    .dataframe tbody tr th {\n",
              "        vertical-align: top;\n",
              "    }\n",
              "\n",
              "    .dataframe thead th {\n",
              "        text-align: right;\n",
              "    }\n",
              "</style>\n",
              "<table border=\"1\" class=\"dataframe\">\n",
              "  <thead>\n",
              "    <tr style=\"text-align: right;\">\n",
              "      <th></th>\n",
              "      <th>login</th>\n",
              "    </tr>\n",
              "  </thead>\n",
              "  <tbody>\n",
              "    <tr>\n",
              "      <th>0</th>\n",
              "      <td>orta</td>\n",
              "    </tr>\n",
              "    <tr>\n",
              "      <th>1</th>\n",
              "      <td>jeromeetienne</td>\n",
              "    </tr>\n",
              "    <tr>\n",
              "      <th>2</th>\n",
              "      <td>jonataslaw</td>\n",
              "    </tr>\n",
              "    <tr>\n",
              "      <th>3</th>\n",
              "      <td>steventroughtonsmith</td>\n",
              "    </tr>\n",
              "    <tr>\n",
              "      <th>4</th>\n",
              "      <td>axic</td>\n",
              "    </tr>\n",
              "  </tbody>\n",
              "</table>\n",
              "</div><br><label><b>dtype:</b> object</label>"
            ]
          },
          "metadata": {},
          "execution_count": 5
        }
      ]
    },
    {
      "cell_type": "code",
      "source": [
        "user_df.sort_values(by='created_at', ascending=True).head(5)['login']"
      ],
      "metadata": {
        "colab": {
          "base_uri": "https://localhost:8080/",
          "height": 241
        },
        "id": "ho-f1EVnT8xT",
        "outputId": "cc1b85ac-0d71-4f77-888a-e93e91bd2fd0"
      },
      "execution_count": 11,
      "outputs": [
        {
          "output_type": "execute_result",
          "data": {
            "text/plain": [
              "75         paulca\n",
              "445        adrian\n",
              "85     GavinJoyce\n",
              "74           amir\n",
              "439     ciaranlee\n",
              "Name: login, dtype: object"
            ],
            "text/html": [
              "<div>\n",
              "<style scoped>\n",
              "    .dataframe tbody tr th:only-of-type {\n",
              "        vertical-align: middle;\n",
              "    }\n",
              "\n",
              "    .dataframe tbody tr th {\n",
              "        vertical-align: top;\n",
              "    }\n",
              "\n",
              "    .dataframe thead th {\n",
              "        text-align: right;\n",
              "    }\n",
              "</style>\n",
              "<table border=\"1\" class=\"dataframe\">\n",
              "  <thead>\n",
              "    <tr style=\"text-align: right;\">\n",
              "      <th></th>\n",
              "      <th>login</th>\n",
              "    </tr>\n",
              "  </thead>\n",
              "  <tbody>\n",
              "    <tr>\n",
              "      <th>75</th>\n",
              "      <td>paulca</td>\n",
              "    </tr>\n",
              "    <tr>\n",
              "      <th>445</th>\n",
              "      <td>adrian</td>\n",
              "    </tr>\n",
              "    <tr>\n",
              "      <th>85</th>\n",
              "      <td>GavinJoyce</td>\n",
              "    </tr>\n",
              "    <tr>\n",
              "      <th>74</th>\n",
              "      <td>amir</td>\n",
              "    </tr>\n",
              "    <tr>\n",
              "      <th>439</th>\n",
              "      <td>ciaranlee</td>\n",
              "    </tr>\n",
              "  </tbody>\n",
              "</table>\n",
              "</div><br><label><b>dtype:</b> object</label>"
            ]
          },
          "metadata": {},
          "execution_count": 11
        }
      ]
    },
    {
      "cell_type": "code",
      "source": [
        "repo_df=pd.read_csv('/content/repositories.csv')"
      ],
      "metadata": {
        "id": "U9k5Jc1xUT42"
      },
      "execution_count": 12,
      "outputs": []
    },
    {
      "cell_type": "code",
      "source": [
        "repo_df.columns"
      ],
      "metadata": {
        "colab": {
          "base_uri": "https://localhost:8080/"
        },
        "id": "LzkICtXAVL8_",
        "outputId": "7f9697cf-3832-4be6-fc04-0f4d2d24f101"
      },
      "execution_count": 13,
      "outputs": [
        {
          "output_type": "execute_result",
          "data": {
            "text/plain": [
              "Index(['login', 'full_name', 'created_at', 'stargazers_count',\n",
              "       'watchers_count', 'language', 'has_projects', 'has_wiki',\n",
              "       'license_name'],\n",
              "      dtype='object')"
            ]
          },
          "metadata": {},
          "execution_count": 13
        }
      ]
    },
    {
      "cell_type": "code",
      "source": [
        "\n",
        "license_counts = repo_df['license_name'].value_counts()\n",
        "top_3_licenses = license_counts.head(3).index.tolist()\n",
        "print(','.join(top_3_licenses))"
      ],
      "metadata": {
        "colab": {
          "base_uri": "https://localhost:8080/"
        },
        "id": "-d_8pePMVv26",
        "outputId": "de514199-4bb9-4a1d-835e-9887f10dad3f"
      },
      "execution_count": 17,
      "outputs": [
        {
          "output_type": "stream",
          "name": "stdout",
          "text": [
            "mit,apache-2.0,other\n"
          ]
        }
      ]
    },
    {
      "cell_type": "code",
      "source": [
        "\n",
        "company_counts = user_df['company'].value_counts()\n",
        "if not company_counts.empty:\n",
        "  most_common_company = company_counts.index[0]\n",
        "  print(most_common_company)\n",
        "else:\n",
        "  print(\"No company information available.\")"
      ],
      "metadata": {
        "colab": {
          "base_uri": "https://localhost:8080/"
        },
        "id": "L0Iv9cSEV-lE",
        "outputId": "3857b171-9d6a-42ca-f22b-995d97053507"
      },
      "execution_count": 18,
      "outputs": [
        {
          "output_type": "stream",
          "name": "stdout",
          "text": [
            "AWS\n"
          ]
        }
      ]
    },
    {
      "cell_type": "code",
      "source": [
        "# prompt: Which programming language is most popular among these users?\n",
        "\n",
        "language_counts = repo_df['language'].value_counts()\n",
        "if not language_counts.empty:\n",
        "  most_popular_language = language_counts.index[0]\n",
        "  print(most_popular_language)\n",
        "else:\n",
        "  print(\"No language information available.\")"
      ],
      "metadata": {
        "colab": {
          "base_uri": "https://localhost:8080/"
        },
        "id": "4IJLsWQOWMZ2",
        "outputId": "9c1b3afb-61c7-40a8-b6d3-ea265d95f2b1"
      },
      "execution_count": 19,
      "outputs": [
        {
          "output_type": "stream",
          "name": "stdout",
          "text": [
            "JavaScript\n"
          ]
        }
      ]
    },
    {
      "cell_type": "code",
      "source": [
        "# prompt: Which programming language is the second most popular among users who joined after 2020?\n",
        "\n",
        "# Convert 'created_at' to datetime objects\n",
        "user_df['created_at'] = pd.to_datetime(user_df['created_at'])\n",
        "\n",
        "# Filter users who joined after 2020\n",
        "recent_users = user_df[user_df['created_at'].dt.year > 2020]\n",
        "\n",
        "# Get language counts for recent users\n",
        "language_counts_recent = repo_df[repo_df['login'].isin(recent_users['login'])]['language'].value_counts()\n",
        "\n",
        "if not language_counts_recent.empty:\n",
        "  second_most_popular_language = language_counts_recent.index[1] if len(language_counts_recent) > 1 else \"Only one language found\"\n",
        "  print(second_most_popular_language)\n",
        "else:\n",
        "  print(\"No language information available for users who joined after 2020.\")"
      ],
      "metadata": {
        "colab": {
          "base_uri": "https://localhost:8080/"
        },
        "id": "vt6QSwswWS2M",
        "outputId": "49602196-73fc-4770-c454-ada0d6452eba"
      },
      "execution_count": 21,
      "outputs": [
        {
          "output_type": "stream",
          "name": "stdout",
          "text": [
            "Jupyter Notebook\n"
          ]
        }
      ]
    },
    {
      "cell_type": "code",
      "source": [
        "# prompt: Which language has the highest average number of stars per repository?\n",
        "\n",
        "# Group by language and calculate the average number of stars\n",
        "average_stars_by_language = repo_df.groupby('language')['stargazers_count'].mean()\n",
        "\n",
        "# Find the language with the highest average number of stars\n",
        "if not average_stars_by_language.empty:\n",
        "  language_with_highest_average_stars = average_stars_by_language.idxmax()\n",
        "  print(language_with_highest_average_stars)\n",
        "else:\n",
        "  print(\"No language information available.\")"
      ],
      "metadata": {
        "colab": {
          "base_uri": "https://localhost:8080/"
        },
        "id": "ZP4h-lPDWE24",
        "outputId": "5b6d2359-0eaf-4318-c141-52e808cc6b28"
      },
      "execution_count": 22,
      "outputs": [
        {
          "output_type": "stream",
          "name": "stdout",
          "text": [
            "MDX\n"
          ]
        }
      ]
    },
    {
      "cell_type": "code",
      "source": [
        "# prompt: Let's define leader_strength as followers / (1 + following). Who are the top 5 in terms of leader_strength? List their login in order, comma-separated.\n",
        "\n",
        "# Calculate leader_strength\n",
        "user_df['leader_strength'] = user_df['followers'] / (1 + user_df['following'])\n",
        "\n",
        "# Sort by leader_strength in descending order and get the top 5\n",
        "top_5_leaders = user_df.sort_values('leader_strength', ascending=False).head(5)\n",
        "\n",
        "# Extract the logins and join them with commas\n",
        "top_5_logins = ','.join(top_5_leaders['login'].tolist())\n",
        "\n",
        "top_5_logins"
      ],
      "metadata": {
        "colab": {
          "base_uri": "https://localhost:8080/",
          "height": 35
        },
        "id": "R0hjMRFXWnMJ",
        "outputId": "c599affc-9c08-43e3-b50d-4eef421a2064"
      },
      "execution_count": 23,
      "outputs": [
        {
          "output_type": "execute_result",
          "data": {
            "text/plain": [
              "'flaviohenriquealmeida,zalando,AnikSarker,wix,CardinalHealth'"
            ],
            "application/vnd.google.colaboratory.intrinsic+json": {
              "type": "string"
            }
          },
          "metadata": {},
          "execution_count": 23
        }
      ]
    },
    {
      "cell_type": "code",
      "source": [
        "# prompt: What is the correlation between the number of followers and the number of public repositories among users in Dublin?\n",
        "\n",
        "# Assuming 'user_df' and 'repo_df' are already loaded as DataFrames\n",
        "\n",
        "# Filter users from Dublin (replace 'Dublin' with the actual location identifier if different)\n",
        "dublin_users = user_df[user_df['location'] == 'Dublin']\n",
        "\n",
        "# Merge user data with repository data based on 'login'\n",
        "dublin_user_repo_data = pd.merge(dublin_users, repo_df, on='login', how='inner')\n",
        "\n",
        "# Calculate the correlation between followers and public repository count\n",
        "correlation = dublin_user_repo_data['followers'].corr(dublin_user_repo_data['login'].map(dublin_user_repo_data.groupby('login')['name'].count()))\n",
        "\n",
        "print(f\"Correlation between followers and public repositories for Dublin users: {correlation}\")"
      ],
      "metadata": {
        "colab": {
          "base_uri": "https://localhost:8080/"
        },
        "id": "P3Fr1FtKWuy_",
        "outputId": "db77d6f6-2a91-4938-c2e1-4d8ccb3b742c"
      },
      "execution_count": 24,
      "outputs": [
        {
          "output_type": "stream",
          "name": "stdout",
          "text": [
            "Correlation between followers and public repositories for Dublin users: 0.28273434143888315\n"
          ]
        }
      ]
    },
    {
      "cell_type": "code",
      "source": [
        "# prompt: Does creating more repos help users get more followers? Using regression, estimate how many additional followers a user gets per additional public repository.\n",
        "\n",
        "# Merge user data with repository data based on 'login'\n",
        "user_repo_data = pd.merge(user_df, repo_df, on='login', how='inner')\n",
        "\n",
        "# Group by user and count the number of repositories\n",
        "repo_counts = user_repo_data.groupby('login')['name'].count().reset_index(name='repo_count')\n",
        "\n",
        "# Merge the repository counts back into the user dataframe\n",
        "user_df = pd.merge(user_df, repo_counts, on='login', how='left')\n",
        "\n",
        "# Fill NaN values in repo_count with 0 (users with no repositories)\n",
        "user_df['repo_count'] = user_df['repo_count'].fillna(0)\n",
        "\n",
        "# Perform linear regression to estimate the relationship between followers and repo_count\n",
        "from sklearn.linear_model import LinearRegression\n",
        "\n",
        "X = user_df['repo_count'].values.reshape(-1, 1)  # Independent variable (repo count)\n",
        "y = user_df['followers'].values  # Dependent variable (followers)\n",
        "\n",
        "model = LinearRegression()\n",
        "model.fit(X, y)\n",
        "\n",
        "# Get the slope of the regression line (additional followers per additional repo)\n",
        "followers_per_repo = model.coef_[0]\n",
        "\n",
        "print(f\"Estimated additional followers per public repository: {followers_per_repo:.3f}\")"
      ],
      "metadata": {
        "colab": {
          "base_uri": "https://localhost:8080/"
        },
        "id": "YjpUHGz8W5Jx",
        "outputId": "a079ac57-3cb6-4c2d-c5a2-48bb4442055e"
      },
      "execution_count": 28,
      "outputs": [
        {
          "output_type": "stream",
          "name": "stdout",
          "text": [
            "Estimated additional followers per public repository: 1.985\n"
          ]
        }
      ]
    },
    {
      "cell_type": "code",
      "source": [
        "# prompt: Do people typically enable projects and wikis together? What is the correlation between a repo having projects enabled and having wiki enabled?\n",
        "\n",
        "# Assuming 'repo_df' is already loaded as a DataFrame\n",
        "\n",
        "# Check if 'has_projects' and 'has_wiki' columns exist in the DataFrame\n",
        "if 'has_projects' in repo_df.columns and 'has_wiki' in repo_df.columns:\n",
        "  # Calculate the correlation between 'has_projects' and 'has_wiki'\n",
        "  correlation = repo_df['has_projects'].corr(repo_df['has_wiki'])\n",
        "\n",
        "  print(f\"Correlation between having projects enabled and having wiki enabled: {correlation:.3f}\")\n",
        "\n",
        "  # Calculate the percentage of repositories with both projects and wiki enabled\n",
        "  both_enabled = repo_df[(repo_df['has_projects'] == True) & (repo_df['has_wiki'] == True)].shape[0]\n",
        "  total_repos = repo_df.shape[0]\n",
        "  percentage_both_enabled = (both_enabled / total_repos) * 100\n",
        "\n",
        "  print(f\"Percentage of repositories with both projects and wiki enabled: {percentage_both_enabled:.3f}%\")\n",
        "else:\n",
        "  print(\"Columns 'has_projects' and/or 'has_wiki' not found in the DataFrame.\")"
      ],
      "metadata": {
        "colab": {
          "base_uri": "https://localhost:8080/"
        },
        "id": "pK3IdVT1XKW6",
        "outputId": "06da5453-065b-4c46-9e3f-bf0d8ee67dd2"
      },
      "execution_count": 31,
      "outputs": [
        {
          "output_type": "stream",
          "name": "stdout",
          "text": [
            "Correlation between having projects enabled and having wiki enabled: 0.334\n",
            "Percentage of repositories with both projects and wiki enabled: 85.340%\n"
          ]
        }
      ]
    },
    {
      "cell_type": "code",
      "source": [
        "# prompt: Do hireable users follow more people than those who are not hireable?\n",
        "# Average of following per user for hireable=true minus the average following for the rest\n",
        "\n",
        "# Calculate the average following for hireable users\n",
        "hireable_following_avg = user_df[user_df['hireable'] == True]['following'].mean()\n",
        "\n",
        "# Calculate the average following for non-hireable users\n",
        "non_hireable_following_avg = user_df[user_df['hireable'] != True]['following'].mean()\n",
        "\n",
        "# Calculate the difference\n",
        "difference = hireable_following_avg - non_hireable_following_avg\n",
        "\n",
        "print(f\"Difference in average following between hireable and non-hireable users: {difference:.3f}\")"
      ],
      "metadata": {
        "colab": {
          "base_uri": "https://localhost:8080/"
        },
        "id": "tezYpwiAXat8",
        "outputId": "37f95e54-4069-4b52-bf7d-9ab3d35e6075"
      },
      "execution_count": 37,
      "outputs": [
        {
          "output_type": "stream",
          "name": "stdout",
          "text": [
            "Difference in average following between hireable and non-hireable users: 47.707\n"
          ]
        }
      ]
    },
    {
      "cell_type": "code",
      "source": [
        "# prompt: Some developers write long bios. Does that help them get more followers? What's the correlation of the length of their bio (in Unicode words, split by whitespace) with followers? (Ignore people without bios)\n",
        "\n",
        "# Assuming 'user_df' is already loaded as a DataFrame\n",
        "\n",
        "# Remove rows with missing bios\n",
        "user_df_with_bios = user_df.dropna(subset=['bio'])\n",
        "\n",
        "# Calculate bio length in words\n",
        "user_df_with_bios['bio_length'] = user_df_with_bios['bio'].apply(lambda x: len(str(x).split()))\n",
        "\n",
        "# Calculate the correlation between bio length and followers\n",
        "correlation = user_df_with_bios['bio_length'].corr(user_df_with_bios['followers'])\n",
        "\n",
        "print(f\"Correlation between bio length and followers: {correlation:.3f}\")"
      ],
      "metadata": {
        "colab": {
          "base_uri": "https://localhost:8080/"
        },
        "id": "OI1xsE91XnCk",
        "outputId": "8246e635-24b2-4646-8f72-1f8aa488c5e2"
      },
      "execution_count": 38,
      "outputs": [
        {
          "output_type": "stream",
          "name": "stdout",
          "text": [
            "Correlation between bio length and followers: 0.116\n"
          ]
        },
        {
          "output_type": "stream",
          "name": "stderr",
          "text": [
            "<ipython-input-38-a80dee9e73c6>:9: SettingWithCopyWarning: \n",
            "A value is trying to be set on a copy of a slice from a DataFrame.\n",
            "Try using .loc[row_indexer,col_indexer] = value instead\n",
            "\n",
            "See the caveats in the documentation: https://pandas.pydata.org/pandas-docs/stable/user_guide/indexing.html#returning-a-view-versus-a-copy\n",
            "  user_df_with_bios['bio_length'] = user_df_with_bios['bio'].apply(lambda x: len(str(x).split()))\n"
          ]
        }
      ]
    },
    {
      "cell_type": "code",
      "source": [
        "user_repo_data.columns"
      ],
      "metadata": {
        "colab": {
          "base_uri": "https://localhost:8080/"
        },
        "id": "XwP1PwilYrkd",
        "outputId": "050fa2ba-596a-4422-8a3f-7a206af1e5fb"
      },
      "execution_count": 43,
      "outputs": [
        {
          "output_type": "execute_result",
          "data": {
            "text/plain": [
              "Index(['login', 'name', 'company', 'location', 'email', 'hireable', 'bio',\n",
              "       'public_repos', 'followers', 'following', 'created_at_x', 'full_name',\n",
              "       'created_at_y', 'stargazers_count', 'watchers_count', 'language',\n",
              "       'has_projects', 'has_wiki', 'license_name'],\n",
              "      dtype='object')"
            ]
          },
          "metadata": {},
          "execution_count": 43
        }
      ]
    },
    {
      "cell_type": "code",
      "source": [
        "# prompt: Who created the most repositories on weekends (UTC)? List the top 5 users' login in order, comma-separated\n",
        "\n",
        "# Convert 'created_at' column to datetime objects\n",
        "repo_df['created_at'] = pd.to_datetime(repo_df['created_at'])\n",
        "\n",
        "# Extract the day of the week (0=Monday, 6=Sunday)\n",
        "repo_df['day_of_week'] = repo_df['created_at'].dt.dayofweek\n",
        "\n",
        "# Filter for weekend repositories (Saturday and Sunday)\n",
        "weekend_repos = repo_df[(repo_df['day_of_week'] == 5) | (repo_df['day_of_week'] == 6)]\n",
        "\n",
        "# Group by user login and count the number of weekend repositories\n",
        "weekend_repo_counts = weekend_repos.groupby('login')['login'].count().reset_index(name='weekend_repo_count')\n",
        "\n",
        "# Sort the users by the number of weekend repositories in descending order\n",
        "top_users = weekend_repo_counts.sort_values('weekend_repo_count', ascending=False).head(5)\n",
        "\n",
        "# Extract the logins and join them with commas\n",
        "top_5_logins = ','.join(top_users['login'].tolist())\n",
        "\n",
        "top_5_logins\n"
      ],
      "metadata": {
        "colab": {
          "base_uri": "https://localhost:8080/",
          "height": 35
        },
        "id": "gkLinLlHX7EA",
        "outputId": "0926d209-6b61-4586-aeea-74f20f471c05"
      },
      "execution_count": 45,
      "outputs": [
        {
          "output_type": "execute_result",
          "data": {
            "text/plain": [
              "'joshuacassidy,skilbjo,kracekumar,butlerx,aldanor'"
            ],
            "application/vnd.google.colaboratory.intrinsic+json": {
              "type": "string"
            }
          },
          "metadata": {},
          "execution_count": 45
        }
      ]
    },
    {
      "cell_type": "code",
      "source": [
        "# prompt: Do people who are hireable share their email addresses more often?\n",
        "# [fraction of users with email when hireable=true] minus [fraction of users with email for the rest] (to 3 decimal places, e.g. 0.123 or -0.123)\n",
        "\n",
        "# Assuming 'user_df' is already loaded as a DataFrame\n",
        "\n",
        "# Calculate the fraction of hireable users with email\n",
        "hireable_with_email = user_df[(user_df['hireable'] == True) & (user_df['email'].notna())].shape[0]\n",
        "total_hireable = user_df[user_df['hireable'] == True].shape[0]\n",
        "fraction_hireable_with_email = hireable_with_email / total_hireable if total_hireable > 0 else 0\n",
        "\n",
        "# Calculate the fraction of non-hireable users with email\n",
        "non_hireable_with_email = user_df[(user_df['hireable'] != True) & (user_df['email'].notna())].shape[0]\n",
        "total_non_hireable = user_df[user_df['hireable'] != True].shape[0]\n",
        "fraction_non_hireable_with_email = non_hireable_with_email / total_non_hireable if total_non_hireable > 0 else 0\n",
        "\n",
        "# Calculate the difference\n",
        "difference = fraction_hireable_with_email - fraction_non_hireable_with_email\n",
        "\n",
        "print(f\"{difference:.3f}\")"
      ],
      "metadata": {
        "colab": {
          "base_uri": "https://localhost:8080/"
        },
        "id": "yE9C_H7tYLfV",
        "outputId": "c094bfc4-b6b7-4034-a66a-3f2e51286508"
      },
      "execution_count": 41,
      "outputs": [
        {
          "output_type": "stream",
          "name": "stdout",
          "text": [
            "0.108\n"
          ]
        }
      ]
    },
    {
      "cell_type": "code",
      "source": [
        "# prompt:  Let's assume that the last word in a user's name is their surname (ignore missing names, trim and split by whitespace.) What's the most common surname? (If there's a tie, list them all, comma-separated, alphabetically)\n",
        "\n",
        "# Assuming 'user_df' is already loaded as a DataFrame\n",
        "\n",
        "# Extract surnames (last word in the 'name' column)\n",
        "def get_surname(name):\n",
        "    if isinstance(name, str):\n",
        "        parts = name.strip().split()\n",
        "        if parts:\n",
        "            return parts[-1]\n",
        "    return None\n",
        "\n",
        "user_df['surname'] = user_df['name'].apply(get_surname)\n",
        "\n",
        "# Count surname occurrences\n",
        "surname_counts = user_df['surname'].value_counts()\n",
        "print(surname_counts)\n",
        "# Find the most common surname(s)\n",
        "max_count = surname_counts.max()\n",
        "most_common_surnames = surname_counts[surname_counts == max_count].index.tolist()\n",
        "\n",
        "# Sort and join surnames if there's a tie\n",
        "most_common_surnames.sort()\n",
        "print(','.join(most_common_surnames))"
      ],
      "metadata": {
        "colab": {
          "base_uri": "https://localhost:8080/"
        },
        "id": "La0WAGMSZeKV",
        "outputId": "75928a25-1894-4312-81cc-6a64d3399e51"
      },
      "execution_count": 47,
      "outputs": [
        {
          "output_type": "stream",
          "name": "stdout",
          "text": [
            "surname\n",
            "O'Sullivan       3\n",
            "Kenny            3\n",
            "Chen             3\n",
            "Quinn            3\n",
            "Lee              2\n",
            "                ..\n",
            "Suriyawongkul    1\n",
            "Aboltins         1\n",
            "Rodrigues        1\n",
            "Finassi          1\n",
            "McCool           1\n",
            "Name: count, Length: 445, dtype: int64\n",
            "Chen,Kenny,O'Sullivan,Quinn\n"
          ]
        }
      ]
    }
  ]
}